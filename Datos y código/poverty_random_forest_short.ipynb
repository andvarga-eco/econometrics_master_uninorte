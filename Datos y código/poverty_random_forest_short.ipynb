{
 "cells": [
  {
   "cell_type": "markdown",
   "id": "88ad521a",
   "metadata": {
    "vscode": {
     "languageId": "bat"
    }
   },
   "source": [
    "# Predicción de pobreza usando Random Forest\n",
    "\n",
    "Usaremos Random Forest para clasificar hogares entre pobre y no pobre. Se entiende como pobre un hogar cuyos miembros disponen de un ingreso percápita inferior a la línea de pobreza. Usaremos los datos de Colombia para 2024 y un conjunto pequeño de variables predictoras. La LP corresponde a la definición oficial. Esta es una tarea de aprendizaje supervisado"
   ]
  },
  {
   "cell_type": "markdown",
   "id": "b12b43d6",
   "metadata": {},
   "source": [
    "## Datos\n",
    "\n",
    "Usamos los datos de la médición de pobreza monetaria para 2024, que se pueden descargar [acá](https://microdatos.dane.gov.co/index.php/catalog/874/data-dictionary/F5?file_name=Personas)"
   ]
  },
  {
   "cell_type": "code",
   "execution_count": null,
   "id": "f3c6e2eb",
   "metadata": {},
   "outputs": [],
   "source": [
    "import numpy as np\n",
    "import pandas as pd\n",
    "import matplotlib.pyplot as plt\n",
    "import statsmodels.api as sm\n",
    "import statsmodels.formula.api as smf\n",
    "from sklearn.tree import DecisionTreeRegressor, plot_tree\n",
    "from sklearn.tree import DecisionTreeClassifier, plot_tree\n",
    "from sklearn.model_selection import train_test_split\n",
    "from sklearn.metrics import mean_squared_error\n",
    "from sklearn.metrics import accuracy_score"
   ]
  },
  {
   "cell_type": "code",
   "execution_count": null,
   "id": "680c2365",
   "metadata": {},
   "outputs": [],
   "source": [
    "file_p= \"C:\\\\Users\\\\andre\\\\OneDrive - Universidad del Norte\\\\Drive\\\\Uninorte\\\\datos pobreza monetaria\\\\Personas_24.csv\"\n",
    "personas = pd.read_csv(file_p)\n",
    "print(personas.shape)\n",
    "\n",
    "file_h=\"C:\\\\Users\\\\andre\\\\OneDrive - Universidad del Norte\\\\Drive\\\\Uninorte\\\\datos pobreza monetaria\\\\Hogares_24.csv\"\n",
    "hogares = pd.read_csv(file_h)\n",
    "print(hogares.shape)"
   ]
  },
  {
   "cell_type": "markdown",
   "id": "5567556b",
   "metadata": {},
   "source": [
    "El análisis se hará a nivel de hogar. Identificamos cada hogar como pobre, 1, o no pobre, 0. Como variables predictoras se usarán la edad, género, nivel educativo, posición ocupacional y estátus laboral del jefe de hogar, además del tamaño del hogar. USaremos únicamente datos para la la clase cabecera. "
   ]
  },
  {
   "cell_type": "code",
   "execution_count": null,
   "id": "bd2d75f4",
   "metadata": {},
   "outputs": [],
   "source": [
    "# Seleccionar datos Hogares\n",
    "\n",
    "columns_to_keep = ['directorio', 'secuencia_p', 'clase','npersug','pobre']\n",
    "hogares_selected = hogares[columns_to_keep].copy()\n",
    "hogares_selected.describe()\n"
   ]
  },
  {
   "cell_type": "code",
   "execution_count": null,
   "id": "645a4ae6",
   "metadata": {},
   "outputs": [],
   "source": [
    "# Filtrar por clase: cabecera\n",
    "hogares_selected = hogares_selected[hogares_selected['clase'] == 1]\n",
    "print(hogares_selected.shape)"
   ]
  },
  {
   "cell_type": "code",
   "execution_count": null,
   "id": "b2f07dbb",
   "metadata": {},
   "outputs": [],
   "source": [
    "# Seleccionar datos Personas\n",
    "columns_to_keep = ['directorio', 'secuencia_p','clase','p3271','p6040','p6050','p3042','p6430','oc','des','fft']\n",
    "personas_selected = personas[columns_to_keep].copy()\n",
    "personas_selected.describe()\n"
   ]
  },
  {
   "cell_type": "code",
   "execution_count": null,
   "id": "b3ebed2b",
   "metadata": {},
   "outputs": [],
   "source": [
    "# Seleccionar jefe de hogar y cabecera\n",
    "personas_selected = personas_selected[(personas_selected['clase'] == 1) & (personas_selected['p6050'] == 1)]\n",
    "personas_selected=personas_selected.drop('clase',axis=1)\n",
    "print(personas_selected.shape)"
   ]
  },
  {
   "cell_type": "code",
   "execution_count": null,
   "id": "35d00f02",
   "metadata": {},
   "outputs": [],
   "source": [
    "# Unir Hogares y personas\n",
    "\n",
    "df=pd.merge(hogares_selected,personas_selected,on=['directorio','secuencia_p'],how='left')\n",
    "print(df.shape)\n",
    "df.head()"
   ]
  },
  {
   "cell_type": "code",
   "execution_count": null,
   "id": "10911dda",
   "metadata": {},
   "outputs": [],
   "source": [
    "# Replace missing values in p6430 based on employment status\n",
    "print(\"Before replacing missing values:\")\n",
    "print(f\"Missing values in p6430: {df['p6430'].isna().sum()}\")\n",
    "\n",
    "# Check current distribution of employment status variables\n",
    "print(f\"\\nDes==1 (unemployed): {(df['des']==1).sum()}\")\n",
    "print(f\"Fft==1 (out of labor force): {(df['fft']==1).sum()}\")\n",
    "\n",
    "# Replace missing values based on conditions\n",
    "# If des==1 (unemployed), replace missing p6430 with 9\n",
    "df.loc[(df['p6430'].isna()) & (df['des'] == 1), 'p6430'] = 9\n",
    "\n",
    "# If fft==1 (out of labor force), replace missing p6430 with 10\n",
    "df.loc[(df['p6430'].isna()) & (df['fft'] == 1), 'p6430'] = 10\n",
    "\n",
    "print(\"\\nAfter replacing missing values:\")\n",
    "print(f\"Missing values in p6430: {df['p6430'].isna().sum()}\")\n",
    "\n",
    "# Show the replacements made\n",
    "replaced_des = ((df['p6430'] == 9) & (df['des'] == 1)).sum()\n",
    "replaced_fft = ((df['p6430'] == 10) & (df['fft'] == 1)).sum()\n",
    "\n",
    "print(f\"\\nReplacements made:\")\n",
    "print(f\"Replaced with 9 (unemployed): {replaced_des}\")\n",
    "print(f\"Replaced with 10 (out of labor force): {replaced_fft}\")\n",
    "\n",
    "# Show updated frequency table for p6430\n",
    "print(\"\\nUpdated frequency table for p6430:\")\n",
    "print(\"=\"*40)\n",
    "freq_table = df['p6430'].value_counts().sort_index()\n",
    "print(freq_table)\n",
    "print(\"-\" * 20)\n",
    "print(f\"Total: {freq_table.sum():,}\")"
   ]
  },
  {
   "cell_type": "code",
   "execution_count": null,
   "id": "e8bb4805",
   "metadata": {},
   "outputs": [],
   "source": [
    "# Rename p6430 to est_lab (estatus laboral)\n",
    "df = df.rename(columns={'p6430': 'est_lab'})\n",
    "df=df.drop(['oc','des','fft'],axis=1)\n"
   ]
  },
  {
   "cell_type": "markdown",
   "id": "ec2295a2",
   "metadata": {},
   "source": [
    "## Árbol de regresión\n",
    "\n",
    "Haremos un árbol de regresión y después lo podamos. Nuestra variable objetivo es **pobre**"
   ]
  },
  {
   "cell_type": "markdown",
   "id": "10c1b8f6",
   "metadata": {},
   "source": [
    "Primero preparamos los datos y hacemos la partición de muestra para entrenamiento y prueba"
   ]
  },
  {
   "cell_type": "code",
   "execution_count": null,
   "id": "56597404",
   "metadata": {},
   "outputs": [],
   "source": [
    "# Drop missing values and prepare data for modeling\n",
    "print(\"Before dropping missing values:\")\n",
    "print(f\"DataFrame shape: {df.shape}\")\n",
    "print(f\"Missing values per column:\")\n",
    "print(df.isnull().sum())\n",
    "\n",
    "# Drop rows with any missing values\n",
    "df_clean = df.dropna()\n",
    "\n",
    "print(f\"\\nAfter dropping missing values:\")\n",
    "print(f\"DataFrame shape: {df_clean.shape}\")\n",
    "print(f\"Rows dropped: {len(df) - len(df_clean)}\")\n"
   ]
  },
  {
   "cell_type": "code",
   "execution_count": null,
   "id": "5e6ccbf9",
   "metadata": {},
   "outputs": [],
   "source": [
    "\n",
    "# Define features (X) and target variable (y)\n",
    "# Features: age, age^2, gender, education, labor status, household size\n",
    "feature_columns = ['p6040', 'p3271', 'p3042', 'est_lab', 'npersug']  \n",
    "X = df_clean[feature_columns].copy()\n",
    "\n",
    "# Create age squared\n",
    "X['edad_cuadrado'] = X['p6040'] ** 2\n",
    "\n",
    "# Target variable: poverty status\n",
    "y = df_clean['pobre'].copy()\n",
    "\n",
    "print(f\"\\nFinal data for modeling:\")\n",
    "print(f\"Features (X) shape: {X.shape}\")\n",
    "print(f\"Target (y) shape: {y.shape}\")\n",
    "print(f\"Feature columns: {list(X.columns)}\")\n",
    "\n",
    "# Check target variable distribution\n",
    "print(f\"\\nTarget variable distribution:\")\n",
    "print(y.value_counts())\n",
    "print(f\"Poverty rate: {y.mean():.2%}\")"
   ]
  },
  {
   "cell_type": "markdown",
   "id": "fc012e7f",
   "metadata": {},
   "source": [
    "Las variables p2371, y est_lab son categóricas no ordinales. Usaremos one hot encoding para ingresarlas adecuadamente al modelo. Para p3042 usamos label encoding pues debemos mantener el orden de los niveles educativos. "
   ]
  },
  {
   "cell_type": "code",
   "execution_count": null,
   "id": "d3ff2025",
   "metadata": {},
   "outputs": [],
   "source": [
    "# Encoding categorical variables\n",
    "from sklearn.preprocessing import LabelEncoder\n",
    "\n",
    "print(\"Before encoding:\")\n",
    "print(f\"X shape: {X.shape}\")\n",
    "print(f\"Unique values in p3271 (gender): {sorted(X['p3271'].unique())}\")\n",
    "print(f\"Unique values in est_lab (labor status): {sorted(X['est_lab'].unique())}\")\n",
    "print(f\"Unique values in p3042 (education): {sorted(X['p3042'].unique())}\")\n",
    "\n",
    "# 1. One-hot encoding for categorical non-ordinal variables\n",
    "# p3271 (gender) and est_lab (labor status)\n",
    "X_encoded = pd.get_dummies(X, columns=['p3271', 'est_lab'], prefix=['gender', 'lab_status'])\n",
    "\n",
    "# 2. Label encoding for ordinal variable p3042 (education level)\n",
    "# Keep the order: higher numbers = higher education\n",
    "label_encoder = LabelEncoder()\n",
    "X_encoded['education_level'] = label_encoder.fit_transform(X['p3042'])\n",
    "\n",
    "# Drop the original p3042 column since we have the encoded version\n",
    "X_encoded = X_encoded.drop('p3042', axis=1)\n",
    "\n",
    "print(f\"\\nAfter encoding:\")\n",
    "print(f\"X_encoded shape: {X_encoded.shape}\")\n",
    "print(f\"New columns: {list(X_encoded.columns)}\")\n",
    "\n",
    "# Show the mapping for education levels\n",
    "education_mapping = dict(zip(label_encoder.classes_, label_encoder.transform(label_encoder.classes_)))\n",
    "print(f\"\\nEducation level mapping: {education_mapping}\")\n",
    "\n",
    "# Update X for modeling\n",
    "X = X_encoded.copy()\n",
    "\n",
    "print(f\"\\nFinal feature set:\")\n",
    "print(f\"Shape: {X.shape}\")\n",
    "print(f\"Columns: {list(X.columns)}\")\n",
    "\n",
    "# Check for any remaining missing values\n",
    "print(f\"\\nMissing values check:\")\n",
    "print(X.isnull().sum().sum())"
   ]
  },
  {
   "cell_type": "code",
   "execution_count": null,
   "id": "dd7b660f",
   "metadata": {},
   "outputs": [],
   "source": [
    "X_train, X_test, y_train, y_test = train_test_split(X, y, test_size=0.2, random_state=42) "
   ]
  },
  {
   "cell_type": "code",
   "execution_count": null,
   "id": "9f37c9b4",
   "metadata": {},
   "outputs": [],
   "source": [
    "clpobre=DecisionTreeClassifier(random_state=42, max_depth=3)\n",
    "clpobre.fit(X_train,y_train)\n",
    "y_pred=clpobre.predict(X_test)\n",
    "accuracy_score(y_test,y_pred)\n",
    "print(f\"Accuracy: {accuracy_score(y_test,y_pred)}\")\n",
    "\n",
    "# Enhanced plot with better readability\n",
    "plt.figure(figsize=(20,12))  # Increased figure size\n",
    "plot_tree(clpobre, \n",
    "          feature_names=X.columns, \n",
    "          class_names=['Not Poor', 'Poor'], \n",
    "          filled=True,\n",
    "          fontsize=12,        # Increase font size\n",
    "          proportion=False,   # Show actual counts instead of proportions\n",
    "          impurity=True,      # Show impurity measure\n",
    "          rounded=True,       # Rounded boxes\n",
    "          precision=2)        # Decimal precision for values\n",
    "plt.title(\"Decision Tree for Poverty Classification\", fontsize=16, pad=20)\n",
    "plt.tight_layout()  # Adjust layout to prevent clipping\n",
    "plt.show()\n"
   ]
  },
  {
   "cell_type": "markdown",
   "id": "78967f96",
   "metadata": {},
   "source": [
    "### Interpretación de los valores en cada nodo del árbol\n",
    "\n",
    "Cada caja (nodo) del árbol de decisión contiene la siguiente información:\n",
    "\n",
    "#### **1. Condición de división (solo en nodos internos)**\n",
    "- Ejemplo: `p6040 <= 35.5`\n",
    "- **Significado**: La edad del jefe de hogar es menor o igual a 35.5 años\n",
    "- **Decisión**: Si es verdadero → rama izquierda, Si es falso → rama derecha\n",
    "\n",
    "#### **2. Gini Impurity (impureza)**\n",
    "- Ejemplo: `gini = 0.42`\n",
    "- **Rango**: 0 a 0.5 (para clasificación binaria)\n",
    "- **Significado**: \n",
    "  - `gini = 0`: Nodo puro (todas las observaciones pertenecen a la misma clase)\n",
    "  - `gini = 0.5`: Máxima impureza (50% pobres, 50% no pobres)\n",
    "  - **Fórmula**: gini = 1 - (p₀² + p₁²), donde p₀ y p₁ son las proporciones de cada clase\n",
    "\n",
    "#### **3. Samples (muestras)**\n",
    "- Ejemplo: `samples = 1,234`\n",
    "- **Significado**: Número total de observaciones (hogares) que llegan a este nodo\n",
    "- **Importante**: La suma debe coincidir con el tamaño de la muestra de entrenamiento\n",
    "\n",
    "#### **4. Value (distribución de clases)**\n",
    "- Ejemplo: `value = [800, 434]`\n",
    "- **Formato**: [No pobres, Pobres]\n",
    "- **Significado**: \n",
    "  - 800 hogares clasificados como \"No pobres\" (clase 0)\n",
    "  - 434 hogares clasificados como \"Pobres\" (clase 1)\n",
    "  - **Verificación**: 800 + 434 = 1,234 (debe coincidir con samples)\n",
    "\n",
    "#### **5. Class (predicción del nodo)**\n",
    "- Ejemplo: `class = Not Poor`\n",
    "- **Significado**: Clase mayoritaria en este nodo\n",
    "- **Decisión**: Si una observación llega a este nodo, se clasifica con esta etiqueta\n",
    "- **Regla**: La clase con mayor valor en el array `value`\n",
    "\n",
    "#### **6. Color del nodo**\n",
    "- **Naranja claro/oscuro**: Mayor proporción de pobres\n",
    "- **Azul claro/oscuro**: Mayor proporción de no pobres  \n",
    "- **Intensidad del color**: Indica qué tan \"pura\" es la clasificación\n",
    "\n",
    "#### **Ejemplo de interpretación completa:**\n",
    "```\n",
    "est_lab <= 4.5\n",
    "gini = 0.45\n",
    "samples = 10,000\n",
    "value = [6,000, 4,000]\n",
    "class = Not Poor\n",
    "```\n",
    "\n",
    "**Interpretación**: \"En este nodo, si el estatus laboral es ≤ 4.5, tenemos 10,000 hogares, de los cuales 6,000 son no pobres y 4,000 son pobres. La impureza es alta (0.45), pero como hay más no pobres, la predicción es 'Not Poor'.\""
   ]
  },
  {
   "cell_type": "markdown",
   "id": "391a7934",
   "metadata": {},
   "source": [
    "### Poda del árbol\n",
    "\n",
    "Hicimos un árbol pequeño, pero esa fue una decisión caprichosa. Pueden haber mejores árboles. Investigue sobre técnicas de poda. Una de ellas es minimal cost-complexity pruning. Investigue sobre ella y haga una implementación"
   ]
  },
  {
   "cell_type": "markdown",
   "id": "2f23858a",
   "metadata": {},
   "source": [
    "### Comparación\n",
    "\n",
    "Usando el mismo conjunto de variables predictoras y las transformaciones que considere adecuadas, ajuste un modelo logit de predicción de la pobreza. Compare con los resultados del árbol de decisión"
   ]
  }
 ],
 "metadata": {
  "kernelspec": {
   "display_name": "venv",
   "language": "python",
   "name": "python3"
  },
  "language_info": {
   "codemirror_mode": {
    "name": "ipython",
    "version": 3
   },
   "file_extension": ".py",
   "mimetype": "text/x-python",
   "name": "python",
   "nbconvert_exporter": "python",
   "pygments_lexer": "ipython3",
   "version": "3.12.3"
  }
 },
 "nbformat": 4,
 "nbformat_minor": 5
}
