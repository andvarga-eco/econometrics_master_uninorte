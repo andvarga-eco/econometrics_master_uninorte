{
 "cells": [
  {
   "cell_type": "markdown",
   "id": "5e17310d",
   "metadata": {},
   "source": [
    "# Taller RCT con covariable\n",
    "\n",
    "En este ejercicio se hará la inferencia de los ATE con y sin covariables pre-tratamiento. De esta manera analizamos tanto la presencia de efectos heterogéneos así como el cambio en la precisión del estimador del ATE. Para ello seguiremos de cerca el notebook [Reemployment Bonus RCT](https://colab.research.google.com/github/CausalAIBook/MetricsMLNotebooks/blob/main/CM1/python-rct-penn-precision-adj.ipynb)\n",
    "\n",
    "## Datos\n",
    "\n",
    "Se usan los datos del expermimento *Pensylvania reemployment bonus experiment*. En este experimento, los solicitantes de seguro de desempleo fueron asignados aleatoriamente a un grupo de control o a alguno de seis grupos de tratamiento. El tratamiento consiste en la oferta de un bono en efectivo si los individuos consiguen un empleo en un periodo de tiempo pre-especificado y que el trabajo fuese mantenido por un periodo de tiempo. \n",
    "\n",
    "Para una descripción del experimento, Revise el artículo: Bilias, Y. (2000). Sequential testing of duration data: the case of the Pennsylvania ‘reemployment bonus’ experiment. Journal of Applied Econometrics, 15(6), 575-594."
   ]
  },
  {
   "cell_type": "markdown",
   "id": "5b299b19",
   "metadata": {},
   "source": [
    "| Grupo | Bono | Periodo de calificación | oferta de taller\n",
    "|-------|------|-------------------------|------------------|\n",
    "| 0     | 0    | 0                       | No               |\n",
    "| 1     | Low  | Short                   | Yes              |\n",
    "| 2     | Low  | Long                    | Yes              |\n",
    "| 3     | High | Short                   | Yes              |\n",
    "| 4     | High | Long                    | Yes              |\n",
    "| 5     | High, declining  | Long                    | Yes              |\n",
    "| 6     | High  | Long                    | No              |\n",
    "\n",
    "Donde bono low es en promedio $500 y high $997. Para el periodo de calificación short corresponde a 6 semanas y largo a 12 semanas"
   ]
  },
  {
   "cell_type": "markdown",
   "id": "07695d8c",
   "metadata": {},
   "source": [
    "A continuación se importan los datos y se trabaja con el grupo de tratamiento 4"
   ]
  },
  {
   "cell_type": "code",
   "execution_count": null,
   "id": "f66e0f76",
   "metadata": {},
   "outputs": [],
   "source": [
    "pip install numpy pandas statsmodels patsy"
   ]
  },
  {
   "cell_type": "code",
   "execution_count": null,
   "id": "4cc21771",
   "metadata": {},
   "outputs": [],
   "source": [
    "import pandas as pd\n",
    "import numpy as np\n",
    "import patsy\n",
    "import statsmodels.formula.api as smf\n",
    "import statsmodels.api as sm"
   ]
  },
  {
   "cell_type": "code",
   "execution_count": null,
   "id": "901fc484",
   "metadata": {},
   "outputs": [],
   "source": [
    "data = pd.read_csv(\"https://raw.githubusercontent.com/VC2015/DMLonGitHub/master/penn_jae.dat\", sep='\\\\s+')\n",
    "n, p = data.shape\n",
    "data = data[data[\"tg\"].isin([0, 4])]"
   ]
  },
  {
   "cell_type": "code",
   "execution_count": null,
   "id": "8a6bc3a1",
   "metadata": {},
   "outputs": [],
   "source": [
    "data[\"T4\"] = np.where(data[\"tg\"] == 4, 1, 0)\n",
    "data[\"T4\"].value_counts()"
   ]
  },
  {
   "cell_type": "code",
   "execution_count": null,
   "id": "2c50b15b",
   "metadata": {},
   "outputs": [],
   "source": [
    "data.describe()"
   ]
  },
  {
   "cell_type": "markdown",
   "id": "78962615",
   "metadata": {},
   "source": [
    "## Modelo\n",
    "\n",
    "Sea $Y$ la duración del desempleo en log, $D$ la variable indicadora de tratamiento y $W$ un conjunto de variables de control, entonces en el modelo de regresión\n",
    "\n",
    "\\begin{equation*}\n",
    "Y=\\beta_1D+W'\\boldsymbol{\\beta_2}+\\epsilon\n",
    "\\end{equation*}\n",
    "\n",
    "el coeficiente $\\beta_1$ es el ATE, si asumimos que $\\epsilon$ no está correlacionado con $D$ ni $W$. Esto gracias a la asignación aleatoria al tratamiento. "
   ]
  },
  {
   "cell_type": "markdown",
   "id": "70f98c9d",
   "metadata": {},
   "source": [
    "### Balanceo de covariables\n",
    "\n"
   ]
  },
  {
   "cell_type": "markdown",
   "id": "92a5a9e7",
   "metadata": {},
   "source": [
    "Primero examinamos las columnas de la matriz de diseño, matirz con todas las covariables, a fin de mantener las que son linealmente independientes. Eliminar variables con alta colinealidad. Se usa la descomposición QR"
   ]
  },
  {
   "cell_type": "code",
   "execution_count": null,
   "id": "6142a883",
   "metadata": {},
   "outputs": [],
   "source": [
    "formula = (\"0 ~ \"\n",
    "           \"(female + black + othrace + C(dep) + q2 + q3 + q4 + q5 + q6 \"\n",
    "           \"+ agelt35 + agegt54 + durable + lusd + husd)**2\")\n",
    "X = patsy.dmatrix(formula, data=data, return_type='dataframe')\n",
    "X.shape"
   ]
  },
  {
   "cell_type": "code",
   "execution_count": null,
   "id": "967a55ff",
   "metadata": {},
   "outputs": [],
   "source": [
    "def qr_decomposition(x):\n",
    "    # Get a set of columns with no linear dependence for smallest subset of observations\n",
    "    Q, Rx = np.linalg.qr(x)\n",
    "    ex = np.abs(np.diag(Rx))\n",
    "    keep = np.where(ex > 1e-6)[0]\n",
    "    xS = x.iloc[:, keep]\n",
    "\n",
    "    return xS\n",
    "\n",
    "\n",
    "xS = qr_decomposition(X)\n",
    "xS.shape"
   ]
  },
  {
   "cell_type": "code",
   "execution_count": null,
   "id": "81bb13ff",
   "metadata": {},
   "outputs": [],
   "source": [
    "covariate_balance = sm.OLS(data[\"T4\"], xS)\n",
    "cb_fit = covariate_balance.fit(cov_type=\"HC1\", use_t=True)\n",
    "print(f\"R2:{cb_fit.rsquared}\")\n",
    "#cb_fit.summary()\n"
   ]
  },
  {
   "cell_type": "markdown",
   "id": "e2e6b762",
   "metadata": {},
   "source": [
    "Recuerde que la condición de balanceo de covariables implica que la regresión de $D$ sobre $W$ debe arrojar un $R^2=0$. Acá observamos un $R^2=0.029$. También esperaríamos que en las hipótesis de insignificancia individual no se rechazaran. Para probar esto debemos tener en cuenta que tenemos más de 100 regresores, luego al realizar multiples pruebas de hipótesis la probabilidad de error tipo I se incrementa a medida que aumentan las pruebas realizadas. Para corregirlo se usa el método de Holm-Bonferroni"
   ]
  },
  {
   "cell_type": "code",
   "execution_count": null,
   "id": "c69e3920",
   "metadata": {},
   "outputs": [],
   "source": [
    "def holm_bonferroni(p, alpha=0.05):\n",
    "\n",
    "    n = len(p)\n",
    "    sig_beta = []\n",
    "\n",
    "    for i in range(n):\n",
    "        if np.sort(p)[i] > alpha / (n - i):\n",
    "            break\n",
    "        else:\n",
    "            sig_beta.append(np.argsort(p).iloc[i])\n",
    "            i += 1\n",
    "\n",
    "    return sig_beta\n",
    "\n",
    "\n",
    "print(\"Significant Coefficients (Indices): \", holm_bonferroni(cb_fit.pvalues, alpha=0.05))"
   ]
  },
  {
   "cell_type": "markdown",
   "id": "85919265",
   "metadata": {},
   "source": [
    "De los resultados anteriores concluimos que las condiciones de balanceo no se cumplen a cabalidad"
   ]
  },
  {
   "cell_type": "markdown",
   "id": "7ef52a9b",
   "metadata": {},
   "source": [
    "### Estimación\n",
    "\n",
    "Empezamos por el modelo sin covariables $Y=\\beta_1D+\\epsilon$. El ATE es el coeficiente $\\beta_1$."
   ]
  },
  {
   "cell_type": "code",
   "execution_count": null,
   "id": "d52a30fc",
   "metadata": {},
   "outputs": [],
   "source": [
    "cl=smf.ols(\"np.log(inuidur1)~T4\", data=data)\n",
    "cl_results=cl.fit(cov_type=\"HC1\")\n",
    "beta1=cl_results.params[\"T4\"]\n",
    "se_beta1=cl_results.bse[\"T4\"]\n",
    "print(f\"ATE:{beta1:.4f} , (se:{se_beta1:.4f})\")"
   ]
  },
  {
   "cell_type": "markdown",
   "id": "57ac4d17",
   "metadata": {},
   "source": [
    "Ahora agregamos las covariables al modelo"
   ]
  },
  {
   "cell_type": "code",
   "execution_count": null,
   "id": "7be5e52b",
   "metadata": {},
   "outputs": [],
   "source": [
    "m_cov=('np.log(inuidur1)~T4+(female+black+othrace+agelt35+agegt54)')\n",
    "cra=smf.ols(m_cov, data=data)\n",
    "cra_results=cra.fit(cov_type=\"HC1\")\n",
    "beta1_cov=cra_results.params[\"T4\"]\n",
    "se_beta1_cov=cra_results.bse[\"T4\"]\n",
    "print(f\"ATE with covariates:{beta1_cov:.4f} , (se:{se_beta1_cov:.4f})\")"
   ]
  },
  {
   "cell_type": "code",
   "execution_count": null,
   "id": "6191c3d1",
   "metadata": {},
   "outputs": [],
   "source": [
    "m_cov=('np.log(inuidur1)~T4*(female+black+othrace+agelt35+agegt54)')\n",
    "cra=smf.ols(m_cov, data=data)\n",
    "cra_results=cra.fit(cov_type=\"HC1\")\n",
    "print(cra_results.summary())\n",
    "beta1_cov=cra_results.params[\"T4\"]\n",
    "se_beta1_cov=cra_results.bse[\"T4\"]\n",
    "print(f\"ATE with covariates:{beta1_cov:.4f} , (se:{se_beta1_cov:.4f})\")"
   ]
  },
  {
   "cell_type": "markdown",
   "id": "2b48f432",
   "metadata": {},
   "source": [
    "Agregamos interacciones para mejorar la precisión del estimador $E[Y|D,W]=\\alpha ' XD+\\beta ´X$, donde $X=(1,W)'$. Asumimos además $E[W]=0$, es decir que centramos las covariables"
   ]
  },
  {
   "cell_type": "code",
   "execution_count": null,
   "id": "bbfcc9d6",
   "metadata": {},
   "outputs": [],
   "source": [
    "ira_formula = \"(female+black+othrace+C(dep)+q2+q3+q4+q5+q6+agelt35+agegt54+durable+lusd+husd)**2\"\n",
    "X = patsy.dmatrix(ira_formula, data, return_type='dataframe')\n",
    "X.head()"
   ]
  },
  {
   "cell_type": "code",
   "execution_count": null,
   "id": "78adc69e",
   "metadata": {},
   "outputs": [],
   "source": [
    "X.columns = [f'x{t}' for t in range(X.shape[1])]  # clean column names\n",
    "X = (X - X.mean(axis=0))  # demean all control covariates\n",
    "\n",
    "# construct interactions of treatment and (de-meaned covariates, 1)\n",
    "ira_formula = \"T4 * (\" + \"+\".join(X.columns) + \")\"\n",
    "X['T4'] = data['T4']\n",
    "X = patsy.dmatrix(ira_formula, X, return_type='dataframe')\n",
    "X.head()\n"
   ]
  },
  {
   "cell_type": "code",
   "execution_count": null,
   "id": "8f3c9e8c",
   "metadata": {},
   "outputs": [],
   "source": [
    "ira = sm.OLS(np.log(data[[\"inuidur1\"]]), X)\n",
    "ira_results = ira.fit(cov_type=\"HC0\")\n",
    "ira_est = ira_results.params['T4']\n",
    "\n",
    "interaction_cols = list(map(lambda x: x.startswith('T4:'), list(X.columns)))\n",
    "cate = X.iloc[:, interaction_cols] @ ira_results.params[interaction_cols]\n",
    "ira_se = np.sqrt(ira_results.HC0_se['T4']**2 + np.var(cate) / X.shape[0])\n",
    "\n",
    "print(f\"ATE: {ira_est:.4f}, (std={ira_se:.4f})\")"
   ]
  },
  {
   "cell_type": "markdown",
   "id": "f3d83bfa",
   "metadata": {},
   "source": [
    "## Ejercicio\n",
    "\n",
    "Realice nuevamente el ejercicio, pero analizando el tratamiento 2. Compare con los resultados obtenidos anteriormente. "
   ]
  }
 ],
 "metadata": {
  "kernelspec": {
   "display_name": "Python 3",
   "language": "python",
   "name": "python3"
  },
  "language_info": {
   "codemirror_mode": {
    "name": "ipython",
    "version": 3
   },
   "file_extension": ".py",
   "mimetype": "text/x-python",
   "name": "python",
   "nbconvert_exporter": "python",
   "pygments_lexer": "ipython3",
   "version": "3.12.3"
  }
 },
 "nbformat": 4,
 "nbformat_minor": 5
}
