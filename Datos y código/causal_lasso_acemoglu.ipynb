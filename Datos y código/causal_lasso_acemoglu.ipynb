{
 "cells": [
  {
   "cell_type": "markdown",
   "id": "83ee59f7",
   "metadata": {},
   "source": [
    "# Lasso en inferencia causal\n",
    "\n",
    "En este taller usaremos el estimador de LASSO para apoyar en la inferencia causal"
   ]
  },
  {
   "cell_type": "code",
   "execution_count": null,
   "id": "27968b8e",
   "metadata": {},
   "outputs": [],
   "source": [
    "! pip install hdmpy statsmodels pandas numpy scikit-learn pip linearmodels"
   ]
  },
  {
   "cell_type": "code",
   "execution_count": null,
   "id": "b3966898",
   "metadata": {},
   "outputs": [],
   "source": [
    "import numpy as np\n",
    "import pandas as pd\n",
    "import statsmodels.api as sm\n",
    "import statsmodels.formula.api as smf\n",
    "from sklearn.base import BaseEstimator"
   ]
  },
  {
   "cell_type": "code",
   "execution_count": null,
   "id": "63251403",
   "metadata": {},
   "outputs": [],
   "source": [
    "import hdmpy as hd\n",
    "\n",
    "# We wrap the package so that it has the familiar sklearn API\n",
    "class RLasso(BaseEstimator):\n",
    "\n",
    "    def __init__(self, *, post=True):\n",
    "        self.post = post\n",
    "\n",
    "    def fit(self, X, y):\n",
    "        self.rlasso_ = hdmpy.rlasso(X, y, post=self.post)\n",
    "        return self\n",
    "\n",
    "    def predict(self, X):\n",
    "        pred = np.array(X) @ np.array(self.rlasso_.est['beta']).flatten()\n",
    "        pred += np.array(self.rlasso_.est['intercept'])\n",
    "        return pred\n",
    "\n",
    "    def nsel(self):\n",
    "        return sum(abs(np.array(self.rlasso_.est['beta']).flatten() > 0))\n",
    "\n",
    "\n",
    "def lasso_model():\n",
    "    return RLasso(post=False)"
   ]
  },
  {
   "cell_type": "code",
   "execution_count": null,
   "id": "5d4c6e2b",
   "metadata": {},
   "outputs": [],
   "source": [
    "# Import data from tab-separated txt file\n",
    "df = pd.read_csv('acemoglu_col_notext.txt', sep='\\t')\n",
    "\n",
    "print(df.head())  # Display first few rows\n",
    "print(f\"Shape: {df.shape}\")  # Show dimensions"
   ]
  },
  {
   "cell_type": "code",
   "execution_count": null,
   "id": "7a0c0daf",
   "metadata": {},
   "outputs": [],
   "source": [
    "# Creación de variables y transformaciones\n",
    "\n",
    "df['lnmort'] = np.log(df['Mort'])\n",
    "df['lat2'] = df['Latitude'] ** 2\n",
    "df['lat3'] = df['Latitude'] ** 3\n",
    "df['lat_c08'] = (df['Latitude'] - 0.08) * (df['Latitude'] - 0.08 > 0)\n",
    "df['lat2_c08']=((df['Latitude'] - 0.08) * (df['Latitude'] - 0.08 > 0))**2\n",
    "df['lat3_c08']=((df['Latitude'] - 0.08) * (df['Latitude'] - 0.08 > 0))**3\n",
    "df['lat_c16'] = (df['Latitude'] - 0.16) * (df['Latitude'] - 0.16 > 0)\n",
    "df['lat2_c16']=((df['Latitude'] - 0.16) * (df['Latitude'] - 0.16 > 0))**2\n",
    "df['lat3_c16']=((df['Latitude'] - 0.16) * (df['Latitude'] - 0.16 > 0))**3\n",
    "df['lat_c24'] = (df['Latitude'] - 0.24) * (df['Latitude'] - 0.24 > 0)\n",
    "df['lat2_c24']=((df['Latitude'] - 0.24) * (df['Latitude'] - 0.24 > 0))**2\n",
    "df['lat3_c24']=((df['Latitude'] - 0.24) * (df['Latitude'] - 0.24 > 0))**3\n"
   ]
  },
  {
   "cell_type": "code",
   "execution_count": null,
   "id": "7c185ab4",
   "metadata": {},
   "outputs": [],
   "source": [
    "print(df.head())  # Display first few rows after transformations\n",
    "print(f\"Shape: {df.shape}\")  # Show dimensions after transformations"
   ]
  },
  {
   "cell_type": "code",
   "execution_count": null,
   "id": "e9473b0e",
   "metadata": {},
   "outputs": [],
   "source": [
    "# Baseline IV regression\n",
    "# GDP (dependent) ~ Exprop (endogenous) | lnmort (instrument)\n",
    "\n",
    "from linearmodels import IV2SLS\n",
    "\n",
    "# Define the IV regression\n",
    "# Format: dependent ~ endogenous | exogenous ~ instruments\n",
    "iv_model = IV2SLS.from_formula('GDP ~ 1 + Latitude+[Exprop ~ lnmort]', data=df)\n",
    "iv_results = iv_model.fit(cov_type='heteroskedastic')  # Use 'heteroskedastic' instead of 'HC1'\n",
    "\n",
    "print(\"Instrumental Variables Regression Results:\")\n",
    "print(iv_results)\n"
   ]
  },
  {
   "cell_type": "code",
   "execution_count": null,
   "id": "20bc4e06",
   "metadata": {},
   "outputs": [],
   "source": [
    "# Primera etapa\n",
    "\n",
    "y = df['Exprop']\n",
    "X = df[['Latitude', 'lnmort']]\n",
    "X = sm.add_constant(X)  # Add intercept\n",
    "\n",
    "# Fit OLS model with robust standard errors\n",
    "ols_model = sm.OLS(y, X).fit(cov_type='HC1')\n",
    "\n",
    "print(\"Linear Regression Results:\")\n",
    "print(\"Exprop ~ Latitude + lnmort\")\n",
    "print(\"=\"*40)\n",
    "print(ols_model.summary())"
   ]
  },
  {
   "cell_type": "code",
   "execution_count": null,
   "id": "37c51ade",
   "metadata": {},
   "outputs": [],
   "source": [
    "from statsmodels.api import add_constant\n",
    "df=add_constant(df)"
   ]
  },
  {
   "cell_type": "code",
   "execution_count": null,
   "id": "5d921061",
   "metadata": {},
   "outputs": [],
   "source": [
    "print(df.head())  # Display first few rows after transformations"
   ]
  },
  {
   "cell_type": "code",
   "execution_count": null,
   "id": "cee30df5",
   "metadata": {},
   "outputs": [],
   "source": [
    "# Incluyendo todos los controles\n",
    "\n",
    "# Define control variables (equivalent to Stata local macro)\n",
    "controls = [\"Africa\", \"Asia\", \"Namer\", \"Samer\", \"Latitude\", \"lat2\", \"lat3\", \n",
    "           \"lat_c08\", \"lat2_c08\", \"lat3_c08\", \"lat_c16\", \"lat2_c16\", \"lat3_c16\", \n",
    "           \"lat_c24\", \"lat2_c24\", \"lat3_c24\"]\n",
    "\n",
    "controls=[\"const\"]+controls\n",
    "print(controls)\n"
   ]
  },
  {
   "cell_type": "code",
   "execution_count": null,
   "id": "0672c9fb",
   "metadata": {},
   "outputs": [],
   "source": [
    "\n",
    "iv_full=IV2SLS(df.GDP,df[controls],df.Exprop,df.lnmort)\n",
    "iv_full_results=iv_full.fit(cov_type='heteroskedastic')\n",
    "print(iv_full_results)"
   ]
  },
  {
   "cell_type": "code",
   "execution_count": null,
   "id": "6b9d86f2",
   "metadata": {},
   "outputs": [],
   "source": [
    "#Primera etapa\n",
    "z=['lnmort']+controls  \n",
    "y = df['Exprop']\n",
    "X = df[z]\n",
    "\n",
    "# Fit OLS model with robust standard errors\n",
    "ols_model = sm.OLS(y, X).fit(cov_type='HC1')\n",
    "\n",
    "print(\"Linear Regression Results:\")\n",
    "print(\"Exprop ~ Controls\")\n",
    "print(\"=\"*40)\n",
    "print(ols_model.summary())"
   ]
  },
  {
   "cell_type": "code",
   "execution_count": null,
   "id": "6c8bc95c",
   "metadata": {},
   "outputs": [],
   "source": [
    "# Selección de controles con Lasso\n",
    "\n",
    "## Ecuación 1: PIB per cápita ~ Controles\n",
    "X_gdp = df[controls[1:]]  # Exclude 'const' from controls\n",
    "y_gdp = df['GDP']\n",
    "\n",
    "# Fit rlasso for GDP equation\n",
    "lasso_gdp = hd.rlasso(X_gdp, y_gdp, post=False)\n",
    "\n"
   ]
  },
  {
   "cell_type": "code",
   "execution_count": null,
   "id": "5f1c8ebb",
   "metadata": {},
   "outputs": [],
   "source": [
    "\n",
    "## Ecuación 2: Exprop ~ Controles  \n",
    "X_exprop = df[controls[1:]]  # Same controls\n",
    "y_exprop = df['Exprop']\n",
    "\n",
    "# Fit rlasso for Exprop equation\n",
    "lasso_exprop = hd.rlasso(X_exprop, y_exprop, post=False)\n",
    "\n"
   ]
  },
  {
   "cell_type": "code",
   "execution_count": null,
   "id": "dd883ad5",
   "metadata": {},
   "outputs": [],
   "source": [
    "\n",
    "## Ecuación 3: Mortality ~ controles\n",
    "X_inst = df[controls[1:]]  # Controls\n",
    "y_inst = df['lnmort']\n",
    "\n",
    "# Fit rlasso for instrument equation\n",
    "lasso_inst = hd.rlasso(X_inst, y_inst, post=False)\n"
   ]
  },
  {
   "cell_type": "code",
   "execution_count": null,
   "id": "a37be21c",
   "metadata": {},
   "outputs": [],
   "source": [
    "# Print only NON-ZERO coefficients for all three equations\n",
    "\n",
    "print(\"\\n\" + \"=\"*60)\n",
    "print(\"NON-ZERO COEFFICIENTS FROM DOUBLE LASSO\")\n",
    "print(\"=\"*60)\n",
    "\n",
    "# GDP equation coefficients (only non-zero)\n",
    "print(\"\\n1. GDP Lasso - Selected Variables:\")\n",
    "gdp_coefs = lasso_gdp.est['beta']\n",
    "gdp_vars = controls[1:]  # Variable names\n",
    "gdp_coefs_values = gdp_coefs.values.flatten() if hasattr(gdp_coefs, 'values') else gdp_coefs.flatten()\n",
    "\n",
    "for i, (var, coef) in enumerate(zip(gdp_vars, gdp_coefs_values)):\n",
    "    if abs(coef) > 1e-10:  # Only show truly non-zero variables\n",
    "        print(f\"  {var}: {coef:.6f}\")\n",
    "\n",
    "# Check intercept for GDP\n",
    "gdp_intercept = lasso_gdp.est['intercept']\n",
    "if hasattr(gdp_intercept, 'iloc'):\n",
    "    gdp_int_val = gdp_intercept.iloc[0]\n",
    "else:\n",
    "    gdp_int_val = gdp_intercept\n",
    "if abs(gdp_int_val) > 1e-10:\n",
    "    print(f\"  Intercept: {gdp_int_val:.6f}\")\n",
    "\n",
    "# Exprop equation coefficients (only non-zero)\n",
    "print(\"\\n2. Exprop Lasso - Selected Variables:\")\n",
    "exprop_coefs = lasso_exprop.est['beta']\n",
    "exprop_coefs_values = exprop_coefs.values.flatten() if hasattr(exprop_coefs, 'values') else exprop_coefs.flatten()\n",
    "\n",
    "for i, (var, coef) in enumerate(zip(gdp_vars, exprop_coefs_values)):\n",
    "    if abs(coef) > 1e-10:  # Only show truly non-zero variables\n",
    "        print(f\"  {var}: {coef:.6f}\")\n",
    "\n",
    "# Check intercept for Exprop\n",
    "exprop_intercept = lasso_exprop.est['intercept']\n",
    "if hasattr(exprop_intercept, 'iloc'):\n",
    "    exprop_int_val = exprop_intercept.iloc[0]\n",
    "else:\n",
    "    exprop_int_val = exprop_intercept\n",
    "if abs(exprop_int_val) > 1e-10:\n",
    "    print(f\"  Intercept: {exprop_int_val:.6f}\")\n",
    "\n",
    "# Instrument equation coefficients (only non-zero)\n",
    "print(\"\\n3. Instrument Lasso - Selected Variables:\")\n",
    "inst_coefs = lasso_inst.est['beta']\n",
    "inst_vars = ['lnmort'] + controls[1:]  # Include instrument + controls\n",
    "inst_coefs_values = inst_coefs.values.flatten() if hasattr(inst_coefs, 'values') else inst_coefs.flatten()\n",
    "\n",
    "for i, (var, coef) in enumerate(zip(inst_vars, inst_coefs_values)):\n",
    "    if abs(coef) > 1e-10:  # Only show truly non-zero variables\n",
    "        print(f\"  {var}: {coef:.6f}\")\n",
    "\n",
    "# Check intercept for Instrument\n",
    "inst_intercept = lasso_inst.est['intercept']\n",
    "if hasattr(inst_intercept, 'iloc'):\n",
    "    inst_int_val = inst_intercept.iloc[0]\n",
    "else:\n",
    "    inst_int_val = inst_intercept\n",
    "if abs(inst_int_val) > 1e-10:\n",
    "    print(f\"  Intercept: {inst_int_val:.6f}\")\n",
    "\n",
    "# Summary\n",
    "print(\"\\n\" + \"-\"*40)\n",
    "print(\"SUMMARY:\")\n",
    "gdp_selected = sum(abs(coef) > 1e-10 for coef in gdp_coefs_values)\n",
    "exprop_selected = sum(abs(coef) > 1e-10 for coef in exprop_coefs_values)\n",
    "inst_selected = sum(abs(coef) > 1e-10 for coef in inst_coefs_values)\n",
    "\n",
    "print(f\"GDP equation: {gdp_selected}/{len(gdp_vars)} variables selected\")\n",
    "print(f\"Exprop equation: {exprop_selected}/{len(gdp_vars)} variables selected\")\n",
    "print(f\"Instrument equation: {inst_selected}/{len(inst_vars)} variables selected\")"
   ]
  },
  {
   "cell_type": "code",
   "execution_count": null,
   "id": "aeeb7aae",
   "metadata": {},
   "outputs": [],
   "source": [
    "# IV2SLS With selected control\n",
    "iv_lasso=IV2SLS(df.GDP,df[[\"const\",\"Africa\"]],df.Exprop,df.lnmort)\n",
    "iv_lasso_results=iv_lasso.fit(cov_type='heteroskedastic')\n",
    "print(iv_lasso_results)\n"
   ]
  },
  {
   "cell_type": "code",
   "execution_count": null,
   "id": "fd651ab9",
   "metadata": {},
   "outputs": [],
   "source": [
    "# Primera etapa\n",
    "\n",
    "y = df['Exprop']\n",
    "X = df[['const','Africa','lnmort']] \n",
    "# Fit OLS model with robust standard errors\n",
    "ols_model = sm.OLS(y, X).fit(cov_type='HC1')    \n",
    "print(\"Linear Regression Results:\")\n",
    "print(\"Exprop ~ Selected Controls\") \n",
    "print(ols_model.summary())"
   ]
  }
 ],
 "metadata": {
  "kernelspec": {
   "display_name": "venv",
   "language": "python",
   "name": "python3"
  },
  "language_info": {
   "codemirror_mode": {
    "name": "ipython",
    "version": 3
   },
   "file_extension": ".py",
   "mimetype": "text/x-python",
   "name": "python",
   "nbconvert_exporter": "python",
   "pygments_lexer": "ipython3",
   "version": "3.12.3"
  }
 },
 "nbformat": 4,
 "nbformat_minor": 5
}
