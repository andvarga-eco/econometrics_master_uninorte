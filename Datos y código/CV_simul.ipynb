{
 "cells": [
  {
   "cell_type": "markdown",
   "id": "868cf3e2",
   "metadata": {},
   "source": [
    "# Cross-validation\n",
    "\n",
    "Generamos datos con las siguientes características: n=40, p=3.\n",
    "\n",
    "Los tres regresores, $X_1,X_2,X_3$ siguen una distribución multivariada normal con media cero, varianza 1 y covarianzas 0.5. La dependiente se genera\n",
    "\n",
    "$$\n",
    "Y=2+X_1+U\n",
    "$$\n",
    "\n",
    "donde $U\\sim N(0,3^2)$. \n",
    "\n",
    "El ejercicio de CV lo haremos para elegir entre 7 modelos lineales posibles"
   ]
  },
  {
   "cell_type": "code",
   "execution_count": null,
   "id": "5c677508",
   "metadata": {},
   "outputs": [],
   "source": [
    "!pip install numpy pandas matplotlib seaborn scikit-learn scipy"
   ]
  },
  {
   "cell_type": "markdown",
   "id": "3a9fc626",
   "metadata": {},
   "source": [
    "**Paso 1** Creamos los datos"
   ]
  },
  {
   "cell_type": "code",
   "execution_count": null,
   "id": "4edf0415",
   "metadata": {},
   "outputs": [],
   "source": [
    "import numpy as np\n",
    "from scipy.stats import multivariate_normal\n",
    "\n",
    "# Parameters\n",
    "mu = [0, 0, 0]\n",
    "sigma = np.array([[1, 0.5, 0.5],\n",
    "                  [0.5, 1, 0.5],\n",
    "                  [0.5, 0.5, 1]])\n",
    "\n",
    "n = 40\n",
    "np.random.seed(12345)\n",
    "\n",
    "# Generate multivariate normal data\n",
    "X = multivariate_normal.rvs(mean=mu, cov=sigma, size=n)\n",
    "print(X[:6])  # equivalent to head(X) in R\n",
    "\n"
   ]
  },
  {
   "cell_type": "code",
   "execution_count": null,
   "id": "4d78627d",
   "metadata": {},
   "outputs": [],
   "source": [
    "# Generate error term\n",
    "e = np.random.normal(0, 3, 40)\n",
    "\n",
    "# Generate y\n",
    "y = 2 + 1 * X[:, 0] + e\n",
    "\n",
    "# Combine X and y\n",
    "data = np.column_stack((X, y))\n",
    "print(data[:6])"
   ]
  },
  {
   "cell_type": "code",
   "execution_count": null,
   "id": "1855834c",
   "metadata": {},
   "outputs": [],
   "source": [
    "from sklearn.linear_model import LinearRegression\n",
    "from sklearn.model_selection import cross_val_score, KFold\n",
    "import pandas as pd"
   ]
  },
  {
   "cell_type": "markdown",
   "id": "458585bb",
   "metadata": {},
   "source": [
    "Hacemos un ejercicio de CV únicamente para el modelo lineal con $X_1,X_2,X_3$. Esto con fines ilustrativos"
   ]
  },
  {
   "cell_type": "code",
   "execution_count": null,
   "id": "916f8239",
   "metadata": {},
   "outputs": [],
   "source": [
    "# Prepare the data as a DataFrame\n",
    "df = pd.DataFrame(data, columns=['V1', 'V2', 'V3', 'y'])\n",
    "\n",
    "# Features and target\n",
    "X = df[['V1', 'V2', 'V3']]\n",
    "y = df['y']\n",
    "\n",
    "# Set up 5-fold cross-validation\n",
    "kf = KFold(n_splits=5, shuffle=True, random_state=10101)\n",
    "model = LinearRegression()\n",
    "\n",
    "cv_scores = cross_val_score(model, X, y, cv=kf, scoring=\"neg_mean_squared_error\")\n",
    "mse_scores = -cv_scores  # Convert to positive MSE values\n",
    "\n",
    "print(\"Cross-validation MSE scores:\", mse_scores)\n",
    "print(\"Mean MSE:\", mse_scores.mean())\n",
    "print(\"Std MSE:\", mse_scores.std())"
   ]
  },
  {
   "cell_type": "markdown",
   "id": "cc766bff",
   "metadata": {},
   "source": [
    "**Paso 2** Definimos los 7 modelos y se hace la CV para cada uno de ellos\n",
    "\n",
    "Elegimos el modelo con el menor MSE promedio"
   ]
  },
  {
   "cell_type": "code",
   "execution_count": null,
   "id": "7224faad",
   "metadata": {},
   "outputs": [],
   "source": [
    "# List of feature sets for each model\n",
    "feature_sets = [\n",
    "    ['V1'],\n",
    "    ['V2'],\n",
    "    ['V3'],\n",
    "    ['V1', 'V2'],\n",
    "    ['V1', 'V3'],\n",
    "    ['V2', 'V3'],\n",
    "    ['V1', 'V2', 'V3']\n",
    "]\n",
    "\n",
    "kf = KFold(n_splits=5, shuffle=True, random_state=10101)\n",
    "model = LinearRegression()\n",
    "\n",
    "for i, features in enumerate(feature_sets, 1):\n",
    "    X = df[features]\n",
    "    y = df['y']\n",
    "    cv_scores = cross_val_score(model, X, y, cv=kf, scoring=\"neg_mean_squared_error\")\n",
    "    mse_scores = -cv_scores  # Convert to positive MSE values\n",
    "    print(f\"Model m{i}: y ~ {' + '.join(features)}\")\n",
    "    print(\"  Cross-validation MSE scores:\", mse_scores)\n",
    "    print(\"  Mean MSE:\", mse_scores.mean())\n",
    "    print(\"  Std MSE:\", mse_scores.std())\n",
    "    print()\n",
    "    "
   ]
  },
  {
   "cell_type": "markdown",
   "id": "d5582daf",
   "metadata": {},
   "source": [
    "## LASSO\n",
    "\n",
    "Ajustamos un modelo con el estimador de LASSO. Hacemos la evaluación fuera de muestra\n"
   ]
  },
  {
   "cell_type": "code",
   "execution_count": null,
   "id": "8abee053",
   "metadata": {},
   "outputs": [],
   "source": [
    "from sklearn.model_selection import train_test_split"
   ]
  },
  {
   "cell_type": "code",
   "execution_count": null,
   "id": "622311fd",
   "metadata": {},
   "outputs": [],
   "source": [
    "X_train, X_test, y_train, y_test = train_test_split(X, y, test_size=.2, shuffle=True)"
   ]
  },
  {
   "cell_type": "code",
   "execution_count": null,
   "id": "4868185d",
   "metadata": {},
   "outputs": [],
   "source": [
    "from sklearn.preprocessing import StandardScaler\n",
    "from sklearn.pipeline import Pipeline\n",
    "import sklearn.linear_model as lm\n",
    "from sklearn.linear_model import LassoCV"
   ]
  },
  {
   "cell_type": "code",
   "execution_count": null,
   "id": "df5bb917",
   "metadata": {},
   "outputs": [],
   "source": [
    "# train model using Lasso with cross validation and variable normalization\n",
    "lasso_cv = Pipeline([('scale', StandardScaler()),  # standardize the variables\n",
    "                  ('lasso', lm.LassoCV(cv=5, random_state=10101))])\n",
    "model=lasso_cv.fit(X_train, y_train)"
   ]
  },
  {
   "cell_type": "code",
   "execution_count": null,
   "id": "7130b5f2",
   "metadata": {},
   "outputs": [],
   "source": [
    "# Print summary information\n",
    "lasso = model.named_steps['lasso']\n",
    "print(\"Optimal alpha:\", lasso.alpha_)\n",
    "print(\"Coefficients:\", lasso.coef_)\n",
    "print(\"Intercept:\", lasso.intercept_)\n",
    "print(\"Number of Iterations:\", lasso.n_iter_)"
   ]
  },
  {
   "cell_type": "code",
   "execution_count": null,
   "id": "a762d272",
   "metadata": {},
   "outputs": [],
   "source": [
    "yhat_lasso = model.predict(X_test)\n",
    "mse_test = np.mean((y_test - yhat_lasso) ** 2)\n",
    "print(\"Test MSE:\", mse_test)"
   ]
  }
 ],
 "metadata": {
  "kernelspec": {
   "display_name": "venv",
   "language": "python",
   "name": "python3"
  },
  "language_info": {
   "codemirror_mode": {
    "name": "ipython",
    "version": 3
   },
   "file_extension": ".py",
   "mimetype": "text/x-python",
   "name": "python",
   "nbconvert_exporter": "python",
   "pygments_lexer": "ipython3",
   "version": "3.12.3"
  }
 },
 "nbformat": 4,
 "nbformat_minor": 5
}
