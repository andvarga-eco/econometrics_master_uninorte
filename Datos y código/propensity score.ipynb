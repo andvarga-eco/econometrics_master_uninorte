{
 "cells": [
  {
   "cell_type": "markdown",
   "id": "b8923bfe",
   "metadata": {},
   "source": [
    "# Identificación condicionando en observables"
   ]
  },
  {
   "cell_type": "markdown",
   "id": "6d740df5",
   "metadata": {},
   "source": [
    "## Propensity Score: NSW Training program\n",
    "\n",
    "El siguiente ejercicio está basado en el capítulo 5 de [Causal Inference: the mixtape](https://mixtape.scunning.com/) de Scott Cunningham.\n",
    "\n",
    "Usaremos datos de un experimento en el que se le dió un entrenamiento para el trabajo a individuos con dificultades para insertarse en el mercado laboral. La variable de resultado son los ingresos posteriores al entrenamiento. Como grupo de control se usará una muestra no experimental de la encuesta de población, CPS ¿Por qué esta muestra de control introduce sesgo de selección?"
   ]
  },
  {
   "cell_type": "markdown",
   "id": "d2cf4d67",
   "metadata": {},
   "source": [
    "### Importar librerias y cargar los datos"
   ]
  },
  {
   "cell_type": "code",
   "execution_count": null,
   "id": "4d23c67a",
   "metadata": {},
   "outputs": [],
   "source": [
    "import numpy as np \n",
    "import pandas as pd \n",
    "import statsmodels.api as sm \n",
    "import statsmodels.formula.api as smf \n",
    "from itertools import combinations \n",
    "import plotnine as p9"
   ]
  },
  {
   "cell_type": "code",
   "execution_count": null,
   "id": "fe1e94ff",
   "metadata": {},
   "outputs": [],
   "source": [
    "import ssl\n",
    "ssl._create_default_https_context = ssl._create_unverified_context\n",
    "def read_data(file): \n",
    "    return pd.read_stata(\"https://github.com/scunning1975/mixtape/raw/master/\" + file)\n",
    "\n",
    "nsw_dw = read_data('nsw_mixtape.dta')\n",
    "nsw_dw_cpscontrol = read_data('cps_mixtape.dta')\n",
    "\n",
    "nsw_dw_cpscontrol = pd.concat((nsw_dw_cpscontrol, nsw_dw))"
   ]
  },
  {
   "cell_type": "code",
   "execution_count": null,
   "id": "3e7a9a3d",
   "metadata": {},
   "outputs": [],
   "source": [
    "print(nsw_dw_cpscontrol.shape)\n",
    "nsw_dw_cpscontrol.head()"
   ]
  },
  {
   "cell_type": "code",
   "execution_count": null,
   "id": "b32d5294",
   "metadata": {},
   "outputs": [],
   "source": [
    "# Frequency table for data_id\n",
    "print(\"Frequency table for data_id:\")\n",
    "print(\"=\"*40)\n",
    "freq_table = nsw_dw_cpscontrol['data_id'].value_counts().sort_index()\n",
    "print(freq_table)\n",
    "\n",
    "print(\"Frequency table for treat:\")\n",
    "print(\"=\"*40)\n",
    "freq_table_treat = nsw_dw_cpscontrol['treat'].value_counts().sort_index()\n",
    "print(freq_table_treat)\n"
   ]
  },
  {
   "cell_type": "code",
   "execution_count": null,
   "id": "e47bad34",
   "metadata": {},
   "outputs": [],
   "source": [
    "# Two-way table (cross-tabulation) for treat and data_id\n",
    "print(\"Two-way table: treat x data_id\")\n",
    "print(\"=\"*50)\n",
    "\n",
    "# Create cross-tabulation\n",
    "crosstab = pd.crosstab(nsw_dw_cpscontrol['treat'], \n",
    "                       nsw_dw_cpscontrol['data_id'], \n",
    "                       margins=True, \n",
    "                       margins_name=\"Total\")\n",
    "print(crosstab)\n",
    "\n"
   ]
  },
  {
   "cell_type": "code",
   "execution_count": null,
   "id": "4301e045",
   "metadata": {},
   "outputs": [],
   "source": [
    "# Creación de variables\n",
    "nsw_dw_cpscontrol['u74'], nsw_dw_cpscontrol['u75'] = 0, 0\n",
    "nsw_dw_cpscontrol.loc[nsw_dw_cpscontrol.re74==0, 'u74'] = 1\n",
    "nsw_dw_cpscontrol.loc[nsw_dw_cpscontrol.re75==0, 'u75'] = 1"
   ]
  },
  {
   "cell_type": "code",
   "execution_count": null,
   "id": "b12afbd4",
   "metadata": {},
   "outputs": [],
   "source": [
    "# Filter out observations where data_id is \"Dehejia-Wahba Sample\" and treat is 0\n",
    "# Keep: 1) All CPS observations, 2) Treated units from Dehejia-Wahba Sample\n",
    "print(\"Before filtering:\")\n",
    "print(f\"Total observations: {len(nsw_dw_cpscontrol)}\")\n",
    "print(nsw_dw_cpscontrol.groupby(['data_id', 'treat']).size())\n",
    "\n",
    "# Create filter condition\n",
    "# Keep if: NOT (data_id == \"Dehejia-Wahba Sample\" AND treat == 0)\n",
    "filter_condition = ~((nsw_dw_cpscontrol['data_id'] == 'Dehejia-Wahba Sample') & \n",
    "                     (nsw_dw_cpscontrol['treat'] == 0))\n",
    "\n",
    "# Apply filter\n",
    "nsw_dw_cpscontrol = nsw_dw_cpscontrol[filter_condition].copy()\n",
    "\n",
    "print(\"\\nAfter filtering:\")\n",
    "print(f\"Total observations: {len(nsw_dw_cpscontrol)}\")\n",
    "print(nsw_dw_cpscontrol.groupby(['data_id', 'treat']).size())"
   ]
  },
  {
   "cell_type": "markdown",
   "id": "a74ff991",
   "metadata": {},
   "source": [
    "### Estimación del propensity score"
   ]
  },
  {
   "cell_type": "markdown",
   "id": "93783e57",
   "metadata": {},
   "source": [
    "Antes de realizar el procedimiento, calculemos el ATE con los datos del experimento. Después analizamos bajo que circunstancias podemos recuperarlo con datos de control sin asignación aleatoria"
   ]
  },
  {
   "cell_type": "code",
   "execution_count": null,
   "id": "329a212c",
   "metadata": {},
   "outputs": [],
   "source": [
    "mean1 = nsw_dw[nsw_dw.treat==1].re78.mean()\n",
    "mean0 = nsw_dw[nsw_dw.treat==0].re78.mean()\n",
    "ate = np.unique(mean1 - mean0)[0]\n",
    "print(\"The experimental ATE estimate is {:.2f}\".format(ate))"
   ]
  },
  {
   "cell_type": "markdown",
   "id": "f9237306",
   "metadata": {},
   "source": [
    "La estimación del propensity score $p(X)$ se realiza a través de un modelo logit"
   ]
  },
  {
   "cell_type": "code",
   "execution_count": null,
   "id": "fde1d718",
   "metadata": {},
   "outputs": [],
   "source": [
    "logit_formula = 'treat ~ age + I(age**2) + I(age**3) + educ + I(educ**2) +' \\\n",
    "'marr + nodegree + black + hisp + re74 + re75 + u74 + u75 + educ*re74'\n",
    "logit_nsw = smf.glm(formula=logit_formula, \n",
    "                    family=sm.families.Binomial(),\n",
    "                   data=nsw_dw_cpscontrol).fit()\n",
    "                  \n",
    "nsw_dw_cpscontrol['pscore'] = logit_nsw.predict(nsw_dw_cpscontrol)\n",
    "\n",
    "print(nsw_dw_cpscontrol.groupby('treat')['pscore'].mean())\n",
    "\n",
    "p9.ggplot(nsw_dw_cpscontrol, p9.aes(x='pscore')) + p9.geom_histogram(bins=50) +\\\n",
    "p9.facet_wrap(\"treat\", scales='free')"
   ]
  },
  {
   "cell_type": "markdown",
   "id": "1cc4dbf2",
   "metadata": {},
   "source": [
    "Note que la media de $p(X)$ para el grupo de tratamiento es 0.42 y para el de control es de 0.007. El supuesto de full support (common support, overlap) siginifica que debemos tener para cada probabilidad unidades en el grupo de tratamiento y control. Note que para los no tratados el $p(X)$ está concentrado a la izquierda, luego no se cumple el supuesto de soporte común. La diferencia en la dsitribución entre tratados y control se debe a que los tratados tienen unas características específicas que definen una población particular: jóvenes, solteros, bajo nivel educativo y pertenecientes a una minoría étnica. En la muestra que define el grupo de control este tipo de cartacerísticas es rara. "
   ]
  },
  {
   "cell_type": "markdown",
   "id": "b1346bdf",
   "metadata": {},
   "source": [
    "### Estimación"
   ]
  },
  {
   "cell_type": "markdown",
   "id": "cfcd1cf5",
   "metadata": {},
   "source": [
    "Para estimar usando el propensity score lo que hacemos es ponderar por el inverso de la probabilidad de inclusión. El resultado de Horvitz-Thompson muestra que bajo CIA la diferencia de promedios ponderados corresponde al ATE"
   ]
  },
  {
   "cell_type": "code",
   "execution_count": null,
   "id": "21278274",
   "metadata": {},
   "outputs": [],
   "source": [
    "\n",
    "nsw_dw_cpscontrol['y1'] = nsw_dw_cpscontrol.treat * nsw_dw_cpscontrol.re78 / nsw_dw_cpscontrol.pscore\n",
    "nsw_dw_cpscontrol['y0'] = (1 - nsw_dw_cpscontrol.treat) * nsw_dw_cpscontrol.re78 / (1 - nsw_dw_cpscontrol.pscore)\n",
    "nsw_dw_cpscontrol['ht'] = nsw_dw_cpscontrol['y1'] - nsw_dw_cpscontrol['y0']\n",
    "\n",
    "te_1 = nsw_dw_cpscontrol.ht.mean()\n",
    "\n",
    "print(\"Treatment Effect (non-normalized, all data): {:.2f}\".format(te_1))"
   ]
  },
  {
   "cell_type": "markdown",
   "id": "61b87a30",
   "metadata": {},
   "source": [
    "El resultado es muy lejano al valor obtenido con los datos de la aleatorización ¿Por qué la podenración que estamos usando arroja resultados tan distantes del correcto? Piense en las probabilidades del grupo de control y lo que implica para la ponderación dado que no tenemos soporte común satisfactorio \n"
   ]
  },
  {
   "cell_type": "markdown",
   "id": "a42217cb",
   "metadata": {},
   "source": [
    "El histograma del propensity score revela que tenemos muchas observaciones con valores cercanos a cero. Una estrategia es recortar (trimming) los datos y mantener únicamente las observaciones cuyo propensity score está en el intervalo $[0.1,0.9]$"
   ]
  },
  {
   "cell_type": "code",
   "execution_count": null,
   "id": "68f5b028",
   "metadata": {},
   "outputs": [],
   "source": [
    "nsw_dw_trimmed = nsw_dw_cpscontrol.drop(['d1', 'd0', 'y1', 'y0'], axis=1)\n",
    "nsw_dw_trimmed = nsw_dw_trimmed[nsw_dw_trimmed.pscore.between(.1, .9)]\n",
    "\n",
    "nsw_dw_trimmed['y1'] = nsw_dw_trimmed.treat * nsw_dw_trimmed.re78 / nsw_dw_trimmed.pscore\n",
    "nsw_dw_trimmed['y0'] = (1 - nsw_dw_trimmed.treat) * nsw_dw_trimmed.re78 / (1 - nsw_dw_trimmed.pscore)\n",
    "nsw_dw_trimmed['ht'] = nsw_dw_trimmed['y1'] - nsw_dw_trimmed['y0']\n",
    "\n",
    "te_3 = nsw_dw_trimmed.ht.mean()\n",
    "\n",
    "print(\"Treatment Effect (non-normalized, trimmed data): {:.2f}\".format(te_3))\n"
   ]
  },
  {
   "cell_type": "markdown",
   "id": "089e3bc4",
   "metadata": {},
   "source": [
    "Como se observa, el ATE estimado usando la ponderación de Horvitz-Thompson con todos los datos es muy diferente al valor experimental."
   ]
  },
  {
   "cell_type": "markdown",
   "id": "a1f61896",
   "metadata": {},
   "source": [
    "### Para comparar usaremos la estimación por MCO"
   ]
  },
  {
   "cell_type": "code",
   "execution_count": null,
   "id": "0e66a081",
   "metadata": {},
   "outputs": [],
   "source": [
    "model_ols_nocont='re78~treat'\n",
    "\n",
    "nsw_olsnocont = smf.ols(formula=model_ols_nocont, data=nsw_dw_cpscontrol).fit()\n",
    "treat_coeff = nsw_olsnocont.params['treat']\n",
    "treat_se = nsw_olsnocont.bse['treat']\n",
    "print(\"OLS Results for Treatment Variable:\")\n",
    "print(\"=\"*40)\n",
    "print(f\"Coefficient (treat): {treat_coeff:.2f}\")\n",
    "print(f\"Standard Error:     {treat_se:.2f}\")"
   ]
  },
  {
   "cell_type": "code",
   "execution_count": null,
   "id": "3f4470ef",
   "metadata": {},
   "outputs": [],
   "source": [
    "model_ols='re78~treat+age + I(age**2) + I(age**3) + educ + I(educ**2) +' \\\n",
    "'marr + nodegree + black + hisp + re74 + re75 + u74 + u75 + educ*re74'\n",
    "\n",
    "nsw_ols = smf.ols(formula=model_ols, data=nsw_dw_cpscontrol).fit()\n",
    "treat_coeff = nsw_ols.params['treat']\n",
    "treat_se = nsw_ols.bse['treat']\n",
    "print(\"OLS Results for Treatment Variable:\")\n",
    "print(\"=\"*40)\n",
    "print(f\"Coefficient (treat): {treat_coeff:.2f}\")\n",
    "print(f\"Standard Error:     {treat_se:.2f}\")"
   ]
  },
  {
   "cell_type": "markdown",
   "id": "a422f611",
   "metadata": {},
   "source": [
    "Si el control por $X$ o usando $p(X)$ garantiza, dado el conjunto correcto de controles, en presencia de soporte común, permite obtener el ATE ¿Por qué propensity score y la regresión arrojan resultados similares pero diferentes? ¿Qué ventaja tendría la regresión sobre el el propensity (matching) y que ventaja este último sobre la regresión?"
   ]
  }
 ],
 "metadata": {
  "kernelspec": {
   "display_name": "venv",
   "language": "python",
   "name": "python3"
  },
  "language_info": {
   "codemirror_mode": {
    "name": "ipython",
    "version": 3
   },
   "file_extension": ".py",
   "mimetype": "text/x-python",
   "name": "python",
   "nbconvert_exporter": "python",
   "pygments_lexer": "ipython3",
   "version": "3.12.3"
  }
 },
 "nbformat": 4,
 "nbformat_minor": 5
}
